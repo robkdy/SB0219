{
 "cells": [
  {
   "cell_type": "markdown",
   "metadata": {},
   "source": [
    "# What is the True Normal Human Body Temperature? \n",
    "\n",
    "#### Background\n",
    "\n",
    "The mean normal body temperature was held to be 37$^{\\circ}$C or 98.6$^{\\circ}$F for more than 120 years since it was first conceptualized and reported by Carl Wunderlich in a famous 1868 book. But, is this value statistically correct?"
   ]
  },
  {
   "cell_type": "markdown",
   "metadata": {},
   "source": [
    "# <h3>Exercises</h3>\n",
    "\n",
    "<p>In this exercise, you will analyze a dataset of human body temperatures and employ the concepts of hypothesis testing, confidence intervals, and statistical significance.</p>\n",
    "\n",
    "<p>Answer the following questions <b>in this notebook below and submit to your Github account</b>.</p> \n",
    "\n",
    "<ol>\n",
    "<li>  Is the distribution of body temperatures normal? \n",
    "    <ul>\n",
    "    <li> Although this is not a requirement for the Central Limit Theorem to hold (read the introduction on Wikipedia's page about the CLT carefully: https://en.wikipedia.org/wiki/Central_limit_theorem), it gives us some peace of mind that the population may also be normally distributed if we assume that this sample is representative of the population.\n",
    "    <li> Think about the way you're going to check for the normality of the distribution. Graphical methods are usually used first, but there are also other ways: https://en.wikipedia.org/wiki/Normality_test\n",
    "    </ul>\n",
    "<li>  Is the sample size large? Are the observations independent?\n",
    "    <ul>\n",
    "    <li> Remember that this is a condition for the Central Limit Theorem, and hence the statistical tests we are using, to apply.\n",
    "    </ul>\n",
    "<li>  Is the true population mean really 98.6 degrees F?\n",
    "    <ul>\n",
    "    <li> First, try a bootstrap hypothesis test.\n",
    "    <li> Now, let's try frequentist statistical testing. Would you use a one-sample or two-sample test? Why?\n",
    "    <li> In this situation, is it appropriate to use the $t$ or $z$ statistic? \n",
    "    <li> Now try using the other test. How is the result be different? Why?\n",
    "    </ul>\n",
    "<li>  Draw a small sample of size 10 from the data and repeat both frequentist tests. \n",
    "    <ul>\n",
    "    <li> Which one is the correct one to use? \n",
    "    <li> What do you notice? What does this tell you about the difference in application of the $t$ and $z$ statistic?\n",
    "    </ul>\n",
    "<li>  At what temperature should we consider someone's temperature to be \"abnormal\"?\n",
    "    <ul>\n",
    "    <li> As in the previous example, try calculating everything using the boostrap approach, as well as the frequentist approach.\n",
    "    <li> Start by computing the margin of error and confidence interval. When calculating the confidence interval, keep in mind that you should use the appropriate formula for one draw, and not N draws.\n",
    "    </ul>\n",
    "<li>  Is there a significant difference between males and females in normal temperature?\n",
    "    <ul>\n",
    "    <li> What testing approach did you use and why?\n",
    "    <li> Write a story with your conclusion in the context of the original problem.\n",
    "    </ul>\n",
    "</ol>\n",
    "\n",
    "You can include written notes in notebook cells using Markdown: \n",
    "   - In the control panel at the top, choose Cell > Cell Type > Markdown\n",
    "   - Markdown syntax: http://nestacms.com/docs/creating-content/markdown-cheat-sheet\n",
    "\n",
    "#### Resources\n",
    "\n",
    "+ Information and data sources: http://www.amstat.org/publications/jse/datasets/normtemp.txt, http://www.amstat.org/publications/jse/jse_data_archive.htm\n",
    "+ Markdown syntax: http://nestacms.com/docs/creating-content/markdown-cheat-sheet\n",
    "\n",
    "****"
   ]
  },
  {
   "cell_type": "code",
   "execution_count": 2,
   "metadata": {},
   "outputs": [],
   "source": [
    "import pandas as pd\n",
    "import matplotlib.pyplot as plt\n",
    "import numpy as np\n",
    "\n",
    "df = pd.read_csv('data/human_body_temperature.csv')"
   ]
  },
  {
   "cell_type": "markdown",
   "metadata": {
    "collapsed": true
   },
   "source": [
    "# 1."
   ]
  },
  {
   "cell_type": "code",
   "execution_count": 3,
   "metadata": {
    "scrolled": true
   },
   "outputs": [
    {
     "data": {
      "text/plain": [
       "Text(0.5, 0, 'Temperature (F)')"
      ]
     },
     "execution_count": 3,
     "metadata": {},
     "output_type": "execute_result"
    },
    {
     "data": {
      "image/png": "[encoded data removed]",
      "text/plain": [
       "<Figure size 432x288 with 1 Axes>"
      ]
     },
     "metadata": {
      "needs_background": "light"
     },
     "output_type": "display_data"
    }
   ],
   "source": [
    "# 1\n",
    "# plotting the histogram, it does look a little normal but not completely\n",
    "df.temperature.plot.hist(bins=20)\n",
    "plt.xlabel('Temperature (F)')"
   ]
  },
  {
   "cell_type": "code",
   "execution_count": 9,
   "metadata": {},
   "outputs": [
    {
     "data": {
      "text/plain": [
       "Text(0, 0.5, 'CDF')"
      ]
     },
     "execution_count": 9,
     "metadata": {},
     "output_type": "execute_result"
    },
    {
     "data": {
      "image/png": "[encoded data removed]",
      "text/plain": [
       "<Figure size 432x288 with 1 Axes>"
      ]
     },
     "metadata": {
      "needs_background": "light"
     },
     "output_type": "display_data"
    }
   ],
   "source": [
    "# ECDF function\n",
    "def ecdf(data):\n",
    "    \"\"\"Compute ECDF for a one-dimensional array of measurements.\"\"\"\n",
    "    # Number of data points: n\n",
    "    n = len(data)\n",
    "\n",
    "    # x-data for the ECDF: x\n",
    "    x = np.sort(data)\n",
    "\n",
    "    # y-data for the ECDF: y\n",
    "    y = np.arange(1, n+1) / n\n",
    "\n",
    "    return x, y\n",
    "\n",
    "# Plot ecdf and compare to normal\n",
    "samples = np.random.normal(df.temperature.mean(), df.temperature.std(), 100000)\n",
    "x, y = ecdf(np.array(df.temperature))\n",
    "xsamp, ysamp = ecdf(samples)\n",
    "plt.plot(x, y, marker='.', linestyle='none')\n",
    "plt.plot(xsamp, ysamp, marker='.', linestyle='none', alpha=0.01)\n",
    "plt.xlabel('Temperature (F)')\n",
    "plt.ylabel('CDF')"
   ]
  },
  {
   "cell_type": "markdown",
   "metadata": {},
   "source": [
    "# 2."
   ]
  },
  {
   "cell_type": "code",
   "execution_count": 83,
   "metadata": {},
   "outputs": [
    {
     "name": "stdout",
     "output_type": "stream",
     "text": [
      "The sample size is  130\n"
     ]
    }
   ],
   "source": [
    "# 2\n",
    "\n",
    "print('The sample size is ', df.temperature.count())\n",
    "\n",
    "# The sample size is 130, which is > 30 and large enough\n",
    "# The values should be independent since one persons temperature should not affect anothers"
   ]
  },
  {
   "cell_type": "markdown",
   "metadata": {},
   "source": [
    "# 3."
   ]
  },
  {
   "cell_type": "code",
   "execution_count": 10,
   "metadata": {},
   "outputs": [
    {
     "name": "stdout",
     "output_type": "stream",
     "text": [
      "p-value =  0.0\n"
     ]
    }
   ],
   "source": [
    "# 3\n",
    "\n",
    "# bootstrapping hypothesis testing\n",
    "# null hypothesis is true population mean = 98.6\n",
    "\n",
    "def bootstrap_replicate_1d(data, func):\n",
    "    return func(np.random.choice(data, size=len(data)))\n",
    "\n",
    "def draw_bs_reps(data, func, size=1):\n",
    "    \"\"\"Draw bootstrap replicates.\"\"\"\n",
    "\n",
    "    # Initialize array of replicates: bs_replicates\n",
    "    bs_replicates = np.empty(size)\n",
    "\n",
    "    # Generate replicates\n",
    "    for i in range(size):\n",
    "        bs_replicates[i] = bootstrap_replicate_1d(data, func)\n",
    "\n",
    "    return bs_replicates\n",
    "\n",
    "temps = np.array(df.temperature)\n",
    "shift_temps = temps - np.mean(temps) + 98.6\n",
    "\n",
    "bs_reps = draw_bs_reps(shift_temps, np.mean, 10000)\n",
    "\n",
    "p = np.sum(bs_reps <= np.mean(temps)) / len(bs_reps)\n",
    "\n",
    "print('p-value = ', p)\n",
    "\n",
    "# the p-value of 0 indicates the null hypothesis can be rejected and the true temperature mean is not 98.6\n"
   ]
  },
  {
   "cell_type": "markdown",
   "metadata": {},
   "source": [
    "\n",
    "Use t statistic because it is a mean\n",
    "\n",
    "use one sample because you are not comparing two samples\n",
    "\n",
    "sample mean = 98.25\n",
    "\n",
    "sample std = 0.73\n",
    "\n",
    "null hypothesis mean = 98.6\n",
    "\n",
    "t = (98.25-98.6)/(0.73/sqrt(130))\n"
   ]
  },
  {
   "cell_type": "code",
   "execution_count": 85,
   "metadata": {},
   "outputs": [
    {
     "data": {
      "text/plain": [
       "-5.4759252020785585"
      ]
     },
     "execution_count": 85,
     "metadata": {},
     "output_type": "execute_result"
    }
   ],
   "source": [
    "t = (np.mean(temps) - 98.6) / (np.std(temps)/np.sqrt(130))\n",
    "t"
   ]
  },
  {
   "cell_type": "markdown",
   "metadata": {},
   "source": [
    "t = -5.48\n",
    "from t tables, this represents a p-value of less than .0001, enough to reject the null hypotheses\n",
    "\n",
    "you don't know the standard deviation of the population so don't use z score"
   ]
  },
  {
   "cell_type": "markdown",
   "metadata": {},
   "source": [
    "# 4."
   ]
  },
  {
   "cell_type": "code",
   "execution_count": 86,
   "metadata": {},
   "outputs": [
    {
     "data": {
      "text/plain": [
       "array([98.6, 98.6, 97.8, 98. , 97.8, 98.6, 98.2, 98.6, 97.7, 97.5])"
      ]
     },
     "execution_count": 86,
     "metadata": {},
     "output_type": "execute_result"
    }
   ],
   "source": [
    "#4 draw a sample size of 10\n",
    "\n",
    "sample = np.random.choice(temps, 10)\n",
    "sample"
   ]
  },
  {
   "cell_type": "code",
   "execution_count": 87,
   "metadata": {},
   "outputs": [
    {
     "data": {
      "text/plain": [
       "-3.523895624956263"
      ]
     },
     "execution_count": 87,
     "metadata": {},
     "output_type": "execute_result"
    }
   ],
   "source": [
    "t = (np.mean(sample) - 98.6) / (np.std(sample)/np.sqrt(10))\n",
    "t"
   ]
  },
  {
   "cell_type": "code",
   "execution_count": 88,
   "metadata": {},
   "outputs": [
    {
     "data": {
      "text/plain": [
       "-1.991691970280945"
      ]
     },
     "execution_count": 88,
     "metadata": {},
     "output_type": "execute_result"
    }
   ],
   "source": [
    "z = (np.mean(sample) - 98.6) / (np.std(temps)/np.sqrt(10))\n",
    "z"
   ]
  },
  {
   "cell_type": "markdown",
   "metadata": {},
   "source": [
    "Use t statistic because sample size is < 30 and you don't know the population std"
   ]
  },
  {
   "cell_type": "markdown",
   "metadata": {},
   "source": [
    "# 5."
   ]
  },
  {
   "cell_type": "code",
   "execution_count": 12,
   "metadata": {},
   "outputs": [
    {
     "name": "stdout",
     "output_type": "stream",
     "text": [
      "95% confidence interval is  96.82709271932154 to 99.67212912683232\n"
     ]
    }
   ],
   "source": [
    "# 5 Abnormal temperatures\n",
    "\n",
    "# bootstrapping\n",
    "bs_reps = draw_bs_reps(temps, np.mean, 10000)\n",
    "bs_reps_mean = np.mean(bs_reps)\n",
    "bs_reps_s = draw_bs_reps(temps, np.std, 10000)\n",
    "bs_reps_std = np.mean(bs_reps_s)\n",
    "moe = 1.96 * bs_reps_std\n",
    "conf_interval = np.array([bs_reps_mean - moe, bs_reps_mean + moe])\n",
    "print('95% confidence interval is ', conf_interval[0], 'to', conf_interval[1])"
   ]
  },
  {
   "cell_type": "code",
   "execution_count": 11,
   "metadata": {},
   "outputs": [
    {
     "name": "stdout",
     "output_type": "stream",
     "text": [
      "95% confidence interval is  96.81772952257687 to 99.68073201588463\n"
     ]
    }
   ],
   "source": [
    "# frequentist\n",
    "# for a 95% confidence interval, the z score is 1.96\n",
    "moe = 1.96 * np.std(temps)\n",
    "conf_interval = np.array([np.mean(temps) - moe, np.mean(temps) + moe])\n",
    "print('95% confidence interval is ', conf_interval[0], 'to', conf_interval[1])"
   ]
  },
  {
   "cell_type": "markdown",
   "metadata": {},
   "source": [
    "It looks like bootstapping shows a a slightly tighter interval. This is probably due to the many samples and resulting smaller standard deviation."
   ]
  },
  {
   "cell_type": "markdown",
   "metadata": {},
   "source": [
    "# 6."
   ]
  },
  {
   "cell_type": "code",
   "execution_count": 91,
   "metadata": {},
   "outputs": [
    {
     "name": "stdout",
     "output_type": "stream",
     "text": [
      "Mean male temperature: 98.10461538461537\n",
      "Mean female temperature: 98.39384615384614\n"
     ]
    }
   ],
   "source": [
    "temps_m = np.array(df[df.gender == 'M'].temperature)\n",
    "temps_f = np.array(df[df.gender == 'F'].temperature)\n",
    "print('Mean male temperature:', np.mean(temps_m))\n",
    "print('Mean female temperature:', np.mean(temps_f))"
   ]
  },
  {
   "cell_type": "code",
   "execution_count": 92,
   "metadata": {},
   "outputs": [
    {
     "data": {
      "text/plain": [
       "Text(0, 0.5, 'Frequency')"
      ]
     },
     "execution_count": 92,
     "metadata": {},
     "output_type": "execute_result"
    },
    {
     "data": {
      "image/png": "[encoded data removed]",
      "text/plain": [
       "<Figure size 432x288 with 1 Axes>"
      ]
     },
     "metadata": {
      "needs_background": "light"
     },
     "output_type": "display_data"
    }
   ],
   "source": [
    "plt.hist(temps_m, bins=20)\n",
    "plt.xlabel('Male Temperature (F)')\n",
    "plt.ylabel('Frequency')"
   ]
  },
  {
   "cell_type": "code",
   "execution_count": 93,
   "metadata": {},
   "outputs": [
    {
     "data": {
      "text/plain": [
       "Text(0, 0.5, 'Frequency')"
      ]
     },
     "execution_count": 93,
     "metadata": {},
     "output_type": "execute_result"
    },
    {
     "data": {
      "image/png": "[encoded data removed]",
      "text/plain": [
       "<Figure size 432x288 with 1 Axes>"
      ]
     },
     "metadata": {
      "needs_background": "light"
     },
     "output_type": "display_data"
    }
   ],
   "source": [
    "plt.hist(temps_f, bins=20)\n",
    "plt.xlabel('Female Temperature (F)')\n",
    "plt.ylabel('Frequency')"
   ]
  },
  {
   "cell_type": "markdown",
   "metadata": {},
   "source": [
    "The distributions are not identical, so we are going to use a two-sample bootstrap hypothesis test for difference of means.\n",
    "The null hypothesis is: Males and Females have the same mean normal temperature\n",
    "Set the significance level at 0.05"
   ]
  },
  {
   "cell_type": "code",
   "execution_count": 94,
   "metadata": {},
   "outputs": [
    {
     "name": "stdout",
     "output_type": "stream",
     "text": [
      "p-value =  0.0116\n"
     ]
    }
   ],
   "source": [
    "# shift temperatures to have the same mean\n",
    "\n",
    "temps_m_shift = temps_m - np.mean(temps_m) + np.mean(temps)\n",
    "temps_f_shift = temps_f - np.mean(temps_f) + np.mean(temps)\n",
    "\n",
    "# get bootstrap replicates and difference in means\n",
    "bs_reps_m = draw_bs_reps(temps_m_shift, np.mean, 10000)\n",
    "bs_reps_f = draw_bs_reps(temps_f_shift, np.mean, 10000)\n",
    "\n",
    "bs_reps = bs_reps_m - bs_reps_f\n",
    "\n",
    "# calculate p-value\n",
    "p = np.sum(bs_reps < (np.mean(temps_m) - np.mean(temps_f))) / len(bs_reps)\n",
    "print('p-value = ',p)"
   ]
  },
  {
   "cell_type": "markdown",
   "metadata": {},
   "source": [
    "The p-value of 0.0116 indicates that 1.16% percent of the time we can expect the difference between male and female temperatures to be greater than the observed difference in means if males and females had the same mean temperature. This is a one tailed test, testing for female temperatures greater than male temperatures. Since 0.0116 is less than our significance level of 0.05, we can reject the null hypothesis and claim the difference in mean temperatures between males and females is statistically significant."
   ]
  },
  {
   "cell_type": "code",
   "execution_count": null,
   "metadata": {},
   "outputs": [],
   "source": []
  },
  {
   "cell_type": "code",
   "execution_count": null,
   "metadata": {},
   "outputs": [],
   "source": []
  }
 ],
 "metadata": {
  "kernelspec": {
   "display_name": "Python 3",
   "language": "python",
   "name": "python3"
  },
  "language_info": {
   "codemirror_mode": {
    "name": "ipython",
    "version": 3
   },
   "file_extension": ".py",
   "mimetype": "text/x-python",
   "name": "python",
   "nbconvert_exporter": "python",
   "pygments_lexer": "ipython3",
   "version": "3.7.0"
  }
 },
 "nbformat": 4,
 "nbformat_minor": 1
}
