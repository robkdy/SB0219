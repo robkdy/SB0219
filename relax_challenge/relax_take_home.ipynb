{
 "cells": [
  {
   "cell_type": "markdown",
   "metadata": {},
   "source": [
    "## Relax Take Home"
   ]
  },
  {
   "cell_type": "markdown",
   "metadata": {},
   "source": [
    "### Summary\n",
    "\n",
    "The percentage of users who are defined as 'adopted user' is 13.3%. To find which factors predict future user adoption, I did the following:\n",
    "- created the 'adopted' column as 1 for adopted and 0 for not\n",
    "- created a column 'creation_code' which is the creation_source coded to a numeric value\n",
    "- created a column 'invited_bool' which indicates a boolean invited by another user or not 1 or 0.\n",
    "- used the following factors\n",
    "    - opted_in_to_mailing_list\n",
    "    - enabled_for_marketing_drip\n",
    "    - org_id\n",
    "    - invited_bool\n",
    "    - creation_code\n",
    "    \n",
    "From those factors, I ran a pearson correlation matrix to see their correlation to adoption. This didn't reveal much information at all.\n",
    "\n",
    "Plotting the percent of adopted to not adopted for each creation_code showed the following:\n",
    "- creation source 'personal projects' was least likely to become an adopted user\n",
    "- 'guest invite' and 'signup google auth' were more likely to become an adopted user\n",
    "\n",
    "Finally, I ran a quick random forests classifier with default parameters to get the feature importance results. It turns out, org_id is the factor most predictive of future adoption. Plotting this, we can see some org_id's have a high adoption rate and some have very low adoption rates.\n",
    "\n",
    "In summary, org_id is most predictive factor followed by creation_source. Everything else didn't show much.\n",
    "\n",
    "To go further, we could see if email has an affect by getting the email domain for each person. Also, creation time might have a correlation to adoption. These two factors could be explored.\n"
   ]
  },
  {
   "cell_type": "code",
   "execution_count": 2,
   "metadata": {},
   "outputs": [],
   "source": [
    "import pandas as pd\n",
    "import numpy as np\n",
    "import matplotlib.pyplot as plt\n",
    "import matplotlib as mpl\n",
    "from sklearn.ensemble import RandomForestClassifier"
   ]
  },
  {
   "cell_type": "code",
   "execution_count": 4,
   "metadata": {},
   "outputs": [],
   "source": [
    "df1 = pd.read_csv('./takehome_users.csv', encoding='latin1')\n",
    "df2 = pd.read_csv('./takehome_user_engagement.csv')"
   ]
  },
  {
   "cell_type": "code",
   "execution_count": 170,
   "metadata": {},
   "outputs": [
    {
     "data": {
      "text/plain": [
       "2565"
      ]
     },
     "execution_count": 170,
     "metadata": {},
     "output_type": "execute_result"
    }
   ],
   "source": [
    "len(df1.invited_by_user_id.unique())"
   ]
  },
  {
   "cell_type": "code",
   "execution_count": 53,
   "metadata": {},
   "outputs": [],
   "source": [
    "df2.time_stamp = pd.to_datetime(df2.time_stamp)"
   ]
  },
  {
   "cell_type": "code",
   "execution_count": 54,
   "metadata": {
    "scrolled": true
   },
   "outputs": [],
   "source": [
    "df3 = df2.groupby(['user_id', 'time_stamp']).count()"
   ]
  },
  {
   "cell_type": "code",
   "execution_count": 101,
   "metadata": {
    "scrolled": true
   },
   "outputs": [],
   "source": [
    "adopted=[]\n",
    "for idx in df3.index.get_level_values(0).unique():\n",
    "    if df3.loc[(idx, slice(None))].resample('D').count().rolling(7).sum().max().iloc[0] >= 3:\n",
    "        adopted.append(idx)"
   ]
  },
  {
   "cell_type": "code",
   "execution_count": 163,
   "metadata": {},
   "outputs": [
    {
     "name": "stdout",
     "output_type": "stream",
     "text": [
      "Percent of adopted users to total:  0.13308333333333333\n"
     ]
    }
   ],
   "source": [
    "print('Percent of adopted users to total: ', len(adopted)/len(df1.object_id))"
   ]
  },
  {
   "cell_type": "code",
   "execution_count": 118,
   "metadata": {},
   "outputs": [],
   "source": [
    "df1['adopted'] = df1.object_id.isin(adopted).astype(int)"
   ]
  },
  {
   "cell_type": "code",
   "execution_count": 126,
   "metadata": {},
   "outputs": [],
   "source": [
    "df1['invited_bool'] = df1.invited_by_user_id.clip_upper(1)"
   ]
  },
  {
   "cell_type": "code",
   "execution_count": 130,
   "metadata": {},
   "outputs": [],
   "source": [
    "df1.invited_bool = df1.invited_bool.fillna(0)"
   ]
  },
  {
   "cell_type": "code",
   "execution_count": 133,
   "metadata": {
    "scrolled": true
   },
   "outputs": [],
   "source": [
    "df1['creation_code'] = df1.creation_source.astype('category').cat.codes"
   ]
  },
  {
   "cell_type": "code",
   "execution_count": 135,
   "metadata": {},
   "outputs": [],
   "source": [
    "df4 = df1[['opted_in_to_mailing_list', 'enabled_for_marketing_drip', 'org_id', 'invited_bool', 'creation_code', 'adopted']]"
   ]
  },
  {
   "cell_type": "code",
   "execution_count": 137,
   "metadata": {},
   "outputs": [
    {
     "data": {
      "text/html": [
       "<div>\n",
       "<style scoped>\n",
       "    .dataframe tbody tr th:only-of-type {\n",
       "        vertical-align: middle;\n",
       "    }\n",
       "\n",
       "    .dataframe tbody tr th {\n",
       "        vertical-align: top;\n",
       "    }\n",
       "\n",
       "    .dataframe thead th {\n",
       "        text-align: right;\n",
       "    }\n",
       "</style>\n",
       "<table border=\"1\" class=\"dataframe\">\n",
       "  <thead>\n",
       "    <tr style=\"text-align: right;\">\n",
       "      <th></th>\n",
       "      <th>opted_in_to_mailing_list</th>\n",
       "      <th>enabled_for_marketing_drip</th>\n",
       "      <th>org_id</th>\n",
       "      <th>invited_bool</th>\n",
       "      <th>creation_code</th>\n",
       "      <th>adopted</th>\n",
       "    </tr>\n",
       "  </thead>\n",
       "  <tbody>\n",
       "    <tr>\n",
       "      <th>opted_in_to_mailing_list</th>\n",
       "      <td>1.000000</td>\n",
       "      <td>0.483529</td>\n",
       "      <td>0.003432</td>\n",
       "      <td>0.006934</td>\n",
       "      <td>-0.004563</td>\n",
       "      <td>0.008815</td>\n",
       "    </tr>\n",
       "    <tr>\n",
       "      <th>enabled_for_marketing_drip</th>\n",
       "      <td>0.483529</td>\n",
       "      <td>1.000000</td>\n",
       "      <td>0.009275</td>\n",
       "      <td>0.002216</td>\n",
       "      <td>0.001282</td>\n",
       "      <td>0.005173</td>\n",
       "    </tr>\n",
       "    <tr>\n",
       "      <th>org_id</th>\n",
       "      <td>0.003432</td>\n",
       "      <td>0.009275</td>\n",
       "      <td>1.000000</td>\n",
       "      <td>-0.018442</td>\n",
       "      <td>0.012143</td>\n",
       "      <td>0.064366</td>\n",
       "    </tr>\n",
       "    <tr>\n",
       "      <th>invited_bool</th>\n",
       "      <td>0.006934</td>\n",
       "      <td>0.002216</td>\n",
       "      <td>-0.018442</td>\n",
       "      <td>1.000000</td>\n",
       "      <td>-0.866293</td>\n",
       "      <td>0.028039</td>\n",
       "    </tr>\n",
       "    <tr>\n",
       "      <th>creation_code</th>\n",
       "      <td>-0.004563</td>\n",
       "      <td>0.001282</td>\n",
       "      <td>0.012143</td>\n",
       "      <td>-0.866293</td>\n",
       "      <td>1.000000</td>\n",
       "      <td>-0.004157</td>\n",
       "    </tr>\n",
       "    <tr>\n",
       "      <th>adopted</th>\n",
       "      <td>0.008815</td>\n",
       "      <td>0.005173</td>\n",
       "      <td>0.064366</td>\n",
       "      <td>0.028039</td>\n",
       "      <td>-0.004157</td>\n",
       "      <td>1.000000</td>\n",
       "    </tr>\n",
       "  </tbody>\n",
       "</table>\n",
       "</div>"
      ],
      "text/plain": [
       "                            opted_in_to_mailing_list  \\\n",
       "opted_in_to_mailing_list                    1.000000   \n",
       "enabled_for_marketing_drip                  0.483529   \n",
       "org_id                                      0.003432   \n",
       "invited_bool                                0.006934   \n",
       "creation_code                              -0.004563   \n",
       "adopted                                     0.008815   \n",
       "\n",
       "                            enabled_for_marketing_drip    org_id  \\\n",
       "opted_in_to_mailing_list                      0.483529  0.003432   \n",
       "enabled_for_marketing_drip                    1.000000  0.009275   \n",
       "org_id                                        0.009275  1.000000   \n",
       "invited_bool                                  0.002216 -0.018442   \n",
       "creation_code                                 0.001282  0.012143   \n",
       "adopted                                       0.005173  0.064366   \n",
       "\n",
       "                            invited_bool  creation_code   adopted  \n",
       "opted_in_to_mailing_list        0.006934      -0.004563  0.008815  \n",
       "enabled_for_marketing_drip      0.002216       0.001282  0.005173  \n",
       "org_id                         -0.018442       0.012143  0.064366  \n",
       "invited_bool                    1.000000      -0.866293  0.028039  \n",
       "creation_code                  -0.866293       1.000000 -0.004157  \n",
       "adopted                         0.028039      -0.004157  1.000000  "
      ]
     },
     "execution_count": 137,
     "metadata": {},
     "output_type": "execute_result"
    }
   ],
   "source": [
    "df4.corr()"
   ]
  },
  {
   "cell_type": "code",
   "execution_count": 155,
   "metadata": {},
   "outputs": [],
   "source": [
    "create_perc = (df4.groupby('creation_code')['adopted'].sum() / df4.groupby('creation_code')['adopted'].count())"
   ]
  },
  {
   "cell_type": "code",
   "execution_count": 167,
   "metadata": {},
   "outputs": [
    {
     "data": {
      "text/plain": [
       "<matplotlib.axes._subplots.AxesSubplot at 0x2351702e588>"
      ]
     },
     "execution_count": 167,
     "metadata": {},
     "output_type": "execute_result"
    },
    {
     "data": {
      "image/png": "[encoded data removed]",
      "text/plain": [
       "<Figure size 432x288 with 1 Axes>"
      ]
     },
     "metadata": {
      "needs_background": "light"
     },
     "output_type": "display_data"
    }
   ],
   "source": [
    "create_perc.plot.bar(title='Percent adoption rate by creation source')"
   ]
  },
  {
   "cell_type": "code",
   "execution_count": 146,
   "metadata": {},
   "outputs": [],
   "source": [
    "X = df4.drop('adopted', axis=1)\n",
    "y = df4.adopted"
   ]
  },
  {
   "cell_type": "code",
   "execution_count": 147,
   "metadata": {},
   "outputs": [
    {
     "name": "stderr",
     "output_type": "stream",
     "text": [
      "C:\\Users\\robin\\Anaconda3\\lib\\site-packages\\sklearn\\ensemble\\forest.py:246: FutureWarning: The default value of n_estimators will change from 10 in version 0.20 to 100 in 0.22.\n",
      "  \"10 in version 0.20 to 100 in 0.22.\", FutureWarning)\n"
     ]
    },
    {
     "data": {
      "text/plain": [
       "RandomForestClassifier(bootstrap=True, class_weight=None, criterion='gini',\n",
       "            max_depth=None, max_features='auto', max_leaf_nodes=None,\n",
       "            min_impurity_decrease=0.0, min_impurity_split=None,\n",
       "            min_samples_leaf=1, min_samples_split=2,\n",
       "            min_weight_fraction_leaf=0.0, n_estimators=10, n_jobs=None,\n",
       "            oob_score=False, random_state=None, verbose=0,\n",
       "            warm_start=False)"
      ]
     },
     "execution_count": 147,
     "metadata": {},
     "output_type": "execute_result"
    }
   ],
   "source": [
    "rf_clf = RandomForestClassifier()\n",
    "rf_clf.fit(X, y)\n"
   ]
  },
  {
   "cell_type": "code",
   "execution_count": 149,
   "metadata": {},
   "outputs": [
    {
     "data": {
      "text/html": [
       "<div>\n",
       "<style scoped>\n",
       "    .dataframe tbody tr th:only-of-type {\n",
       "        vertical-align: middle;\n",
       "    }\n",
       "\n",
       "    .dataframe tbody tr th {\n",
       "        vertical-align: top;\n",
       "    }\n",
       "\n",
       "    .dataframe thead th {\n",
       "        text-align: right;\n",
       "    }\n",
       "</style>\n",
       "<table border=\"1\" class=\"dataframe\">\n",
       "  <thead>\n",
       "    <tr style=\"text-align: right;\">\n",
       "      <th></th>\n",
       "      <th>Feature</th>\n",
       "      <th>Score</th>\n",
       "    </tr>\n",
       "  </thead>\n",
       "  <tbody>\n",
       "    <tr>\n",
       "      <th>2</th>\n",
       "      <td>org_id</td>\n",
       "      <td>0.951614</td>\n",
       "    </tr>\n",
       "    <tr>\n",
       "      <th>4</th>\n",
       "      <td>creation_code</td>\n",
       "      <td>0.023202</td>\n",
       "    </tr>\n",
       "    <tr>\n",
       "      <th>1</th>\n",
       "      <td>enabled_for_marketing_drip</td>\n",
       "      <td>0.012450</td>\n",
       "    </tr>\n",
       "    <tr>\n",
       "      <th>0</th>\n",
       "      <td>opted_in_to_mailing_list</td>\n",
       "      <td>0.009534</td>\n",
       "    </tr>\n",
       "    <tr>\n",
       "      <th>3</th>\n",
       "      <td>invited_bool</td>\n",
       "      <td>0.003199</td>\n",
       "    </tr>\n",
       "  </tbody>\n",
       "</table>\n",
       "</div>"
      ],
      "text/plain": [
       "                      Feature     Score\n",
       "2                      org_id  0.951614\n",
       "4               creation_code  0.023202\n",
       "1  enabled_for_marketing_drip  0.012450\n",
       "0    opted_in_to_mailing_list  0.009534\n",
       "3                invited_bool  0.003199"
      ]
     },
     "execution_count": 149,
     "metadata": {},
     "output_type": "execute_result"
    }
   ],
   "source": [
    "dfcolumns = pd.DataFrame(X.columns)\n",
    "df_rfscores = pd.DataFrame(rf_clf.feature_importances_)\n",
    "feat_rf_scores = pd.concat([dfcolumns, df_rfscores], axis=1)\n",
    "feat_rf_scores.columns = ['Feature','Score'] \n",
    "feat_rf_scores.nlargest(10, 'Score')"
   ]
  },
  {
   "cell_type": "code",
   "execution_count": 157,
   "metadata": {},
   "outputs": [],
   "source": [
    "org_id_perc = (df4.groupby('org_id')['adopted'].sum() / df4.groupby('org_id')['adopted'].count())"
   ]
  },
  {
   "cell_type": "code",
   "execution_count": 168,
   "metadata": {},
   "outputs": [
    {
     "data": {
      "text/plain": [
       "<matplotlib.axes._subplots.AxesSubplot at 0x23517049c50>"
      ]
     },
     "execution_count": 168,
     "metadata": {},
     "output_type": "execute_result"
    },
    {
     "data": {
      "image/png": "[encoded data removed]",
      "text/plain": [
       "<Figure size 1296x288 with 1 Axes>"
      ]
     },
     "metadata": {
      "needs_background": "light"
     },
     "output_type": "display_data"
    }
   ],
   "source": [
    "org_id_perc.plot.bar(figsize=(18,4), title='Percent adoption rate by organization')"
   ]
  },
  {
   "cell_type": "code",
   "execution_count": 162,
   "metadata": {},
   "outputs": [
    {
     "data": {
      "text/plain": [
       "<matplotlib.axes._subplots.AxesSubplot at 0x235168c2860>"
      ]
     },
     "execution_count": 162,
     "metadata": {},
     "output_type": "execute_result"
    },
    {
     "data": {
      "image/png": "[encoded data removed]",
      "text/plain": [
       "<Figure size 432x288 with 1 Axes>"
      ]
     },
     "metadata": {
      "needs_background": "light"
     },
     "output_type": "display_data"
    }
   ],
   "source": [
    "mkt_perc =  (df4.groupby('enabled_for_marketing_drip')['adopted'].sum() / df4.groupby('enabled_for_marketing_drip')['adopted'].count())\n",
    "mkt_perc.plot.bar()"
   ]
  },
  {
   "cell_type": "code",
   "execution_count": null,
   "metadata": {},
   "outputs": [],
   "source": []
  },
  {
   "cell_type": "code",
   "execution_count": null,
   "metadata": {},
   "outputs": [],
   "source": []
  },
  {
   "cell_type": "code",
   "execution_count": null,
   "metadata": {},
   "outputs": [],
   "source": []
  },
  {
   "cell_type": "code",
   "execution_count": null,
   "metadata": {},
   "outputs": [],
   "source": []
  },
  {
   "cell_type": "code",
   "execution_count": null,
   "metadata": {},
   "outputs": [],
   "source": []
  },
  {
   "cell_type": "code",
   "execution_count": null,
   "metadata": {},
   "outputs": [],
   "source": []
  }
 ],
 "metadata": {
  "kernelspec": {
   "display_name": "Python 3",
   "language": "python",
   "name": "python3"
  },
  "language_info": {
   "codemirror_mode": {
    "name": "ipython",
    "version": 3
   },
   "file_extension": ".py",
   "mimetype": "text/x-python",
   "name": "python",
   "nbconvert_exporter": "python",
   "pygments_lexer": "ipython3",
   "version": "3.7.0"
  }
 },
 "nbformat": 4,
 "nbformat_minor": 2
}
